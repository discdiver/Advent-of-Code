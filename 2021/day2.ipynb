{
 "cells": [
  {
   "cell_type": "markdown",
   "id": "4ff9d436-8e49-4631-9467-7a3c1ce216e8",
   "metadata": {},
   "source": [
    "## Advent of code 2021\n",
    "Day 2"
   ]
  },
  {
   "cell_type": "markdown",
   "id": "6c40b104-6744-4f23-9233-b9320e97a44f",
   "metadata": {},
   "source": [
    "## Part 1\n",
    "\n",
    "### Vanilla Python"
   ]
  },
  {
   "cell_type": "code",
   "execution_count": 2,
   "id": "acd39dfb-6ee5-4406-b510-f31b6fd16a98",
   "metadata": {},
   "outputs": [
    {
     "data": {
      "text/plain": [
       "(1998, 741, 1480518)"
      ]
     },
     "execution_count": 2,
     "metadata": {},
     "output_type": "execute_result"
    }
   ],
   "source": [
    "file_path = \"./data/day2.txt\"\n",
    "\n",
    "with open (file_path, 'r') as f:\n",
    "    lines = f.readlines()\n",
    "    \n",
    "    # horizontal and vertical positions\n",
    "    h_position, v_position = 0, 0\n",
    "    \n",
    "for line in lines:\n",
    "    line_list = list(line.split())\n",
    "    action = line_list[0]\n",
    "    val = int(line_list[1])\n",
    "\n",
    "    if action == 'forward':\n",
    "        h_position += val\n",
    "\n",
    "    if action == 'up':\n",
    "        v_position -= val\n",
    "\n",
    "    if action == 'down':\n",
    "        v_position += val\n",
    "\n",
    "h_position, v_position, v_position * h_position"
   ]
  },
  {
   "cell_type": "markdown",
   "id": "36b43c8b-6879-495c-a43b-1b4b184faee5",
   "metadata": {},
   "source": [
    "The final number is the answer."
   ]
  },
  {
   "cell_type": "markdown",
   "id": "5b6f6953",
   "metadata": {},
   "source": [
    "### Pandas"
   ]
  },
  {
   "cell_type": "code",
   "execution_count": 8,
   "id": "57f1e1e5",
   "metadata": {},
   "outputs": [
    {
     "data": {
      "text/html": [
       "<div>\n",
       "<style scoped>\n",
       "    .dataframe tbody tr th:only-of-type {\n",
       "        vertical-align: middle;\n",
       "    }\n",
       "\n",
       "    .dataframe tbody tr th {\n",
       "        vertical-align: top;\n",
       "    }\n",
       "\n",
       "    .dataframe thead th {\n",
       "        text-align: right;\n",
       "    }\n",
       "</style>\n",
       "<table border=\"1\" class=\"dataframe\">\n",
       "  <thead>\n",
       "    <tr style=\"text-align: right;\">\n",
       "      <th></th>\n",
       "      <th>action</th>\n",
       "      <th>val</th>\n",
       "    </tr>\n",
       "  </thead>\n",
       "  <tbody>\n",
       "    <tr>\n",
       "      <th>0</th>\n",
       "      <td>forward</td>\n",
       "      <td>2</td>\n",
       "    </tr>\n",
       "    <tr>\n",
       "      <th>1</th>\n",
       "      <td>down</td>\n",
       "      <td>8</td>\n",
       "    </tr>\n",
       "    <tr>\n",
       "      <th>2</th>\n",
       "      <td>down</td>\n",
       "      <td>1</td>\n",
       "    </tr>\n",
       "    <tr>\n",
       "      <th>3</th>\n",
       "      <td>up</td>\n",
       "      <td>7</td>\n",
       "    </tr>\n",
       "    <tr>\n",
       "      <th>4</th>\n",
       "      <td>forward</td>\n",
       "      <td>4</td>\n",
       "    </tr>\n",
       "    <tr>\n",
       "      <th>...</th>\n",
       "      <td>...</td>\n",
       "      <td>...</td>\n",
       "    </tr>\n",
       "    <tr>\n",
       "      <th>995</th>\n",
       "      <td>down</td>\n",
       "      <td>7</td>\n",
       "    </tr>\n",
       "    <tr>\n",
       "      <th>996</th>\n",
       "      <td>down</td>\n",
       "      <td>7</td>\n",
       "    </tr>\n",
       "    <tr>\n",
       "      <th>997</th>\n",
       "      <td>up</td>\n",
       "      <td>1</td>\n",
       "    </tr>\n",
       "    <tr>\n",
       "      <th>998</th>\n",
       "      <td>forward</td>\n",
       "      <td>3</td>\n",
       "    </tr>\n",
       "    <tr>\n",
       "      <th>999</th>\n",
       "      <td>forward</td>\n",
       "      <td>2</td>\n",
       "    </tr>\n",
       "  </tbody>\n",
       "</table>\n",
       "<p>1000 rows × 2 columns</p>\n",
       "</div>"
      ],
      "text/plain": [
       "      action  val\n",
       "0    forward    2\n",
       "1       down    8\n",
       "2       down    1\n",
       "3         up    7\n",
       "4    forward    4\n",
       "..       ...  ...\n",
       "995     down    7\n",
       "996     down    7\n",
       "997       up    1\n",
       "998  forward    3\n",
       "999  forward    2\n",
       "\n",
       "[1000 rows x 2 columns]"
      ]
     },
     "execution_count": 8,
     "metadata": {},
     "output_type": "execute_result"
    }
   ],
   "source": [
    "import pandas as pd\n",
    "df = pd.read_csv('./data/day2.txt', header=None, sep=\" \", names=['action', 'val'])\n",
    "df"
   ]
  },
  {
   "cell_type": "code",
   "execution_count": 14,
   "id": "93b22d3d",
   "metadata": {},
   "outputs": [
    {
     "data": {
      "text/plain": [
       "1998"
      ]
     },
     "execution_count": 14,
     "metadata": {},
     "output_type": "execute_result"
    }
   ],
   "source": [
    "horizontal = df[df['action'] == 'forward']['val'].sum()\n",
    "horizontal\n"
   ]
  },
  {
   "cell_type": "code",
   "execution_count": 16,
   "id": "0e3827f2",
   "metadata": {},
   "outputs": [
    {
     "data": {
      "text/plain": [
       "741"
      ]
     },
     "execution_count": 16,
     "metadata": {},
     "output_type": "execute_result"
    }
   ],
   "source": [
    "vertical = df[df['action'] == 'down']['val'].sum() - df[df['action'] == 'up']['val'].sum() \n",
    "vertical"
   ]
  },
  {
   "cell_type": "code",
   "execution_count": 17,
   "id": "be964b2e",
   "metadata": {},
   "outputs": [
    {
     "data": {
      "text/plain": [
       "1480518"
      ]
     },
     "execution_count": 17,
     "metadata": {},
     "output_type": "execute_result"
    }
   ],
   "source": [
    "\n",
    "horizontal * vertical"
   ]
  },
  {
   "cell_type": "markdown",
   "id": "23540579-9691-4343-856e-75eeaf23bd9d",
   "metadata": {},
   "source": [
    "## Part 2 \n",
    "\n",
    "### Vanilla Python"
   ]
  },
  {
   "cell_type": "markdown",
   "id": "0f5215a1-5b49-4ae3-a4bf-3a7720fa6e54",
   "metadata": {},
   "source": [
    "Add aim."
   ]
  },
  {
   "cell_type": "code",
   "execution_count": 3,
   "id": "a4b184fa-ef26-47a0-b97a-c089e6bce782",
   "metadata": {},
   "outputs": [
    {
     "data": {
      "text/plain": [
       "(642047, 1998, 1282809906)"
      ]
     },
     "execution_count": 3,
     "metadata": {},
     "output_type": "execute_result"
    }
   ],
   "source": [
    "    \n",
    "# forward, vertical, and aim positions\n",
    "h_position, v_position, aim = 0, 0, 0\n",
    "    \n",
    "for line in lines:\n",
    "    line_list = list(line.split())\n",
    "    action = line_list[0]\n",
    "    val = int(line_list[1])\n",
    "\n",
    "    if action == 'forward':\n",
    "        h_position += val\n",
    "        v_position += (aim * val)\n",
    "\n",
    "    if action == 'up':\n",
    "        aim -= val\n",
    "\n",
    "    if action == 'down':\n",
    "        aim += val\n",
    "\n",
    "v_position, h_position, v_position * h_position"
   ]
  },
  {
   "cell_type": "markdown",
   "id": "193e628f-a019-4fa8-85f5-16192465dd2f",
   "metadata": {},
   "source": [
    "The final number is the answer."
   ]
  },
  {
   "cell_type": "markdown",
   "id": "fa2720d8",
   "metadata": {},
   "source": []
  },
  {
   "cell_type": "markdown",
   "id": "c06b99a3",
   "metadata": {},
   "source": [
    "No pandas solution, I started one, but it's not the right tool for the job. If you think there's a nice way to solve the problem with pandas, put your solution in an issue."
   ]
  }
 ],
 "metadata": {
  "kernelspec": {
   "display_name": "Python 3",
   "language": "python",
   "name": "python3"
  },
  "language_info": {
   "codemirror_mode": {
    "name": "ipython",
    "version": 3
   },
   "file_extension": ".py",
   "mimetype": "text/x-python",
   "name": "python",
   "nbconvert_exporter": "python",
   "pygments_lexer": "ipython3",
   "version": "3.10.0"
  }
 },
 "nbformat": 4,
 "nbformat_minor": 5
}
