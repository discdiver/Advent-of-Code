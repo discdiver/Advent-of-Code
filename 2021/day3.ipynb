{
 "cells": [
  {
   "cell_type": "markdown",
   "id": "4ff9d436-8e49-4631-9467-7a3c1ce216e8",
   "metadata": {},
   "source": [
    "## Advent of code 2021\n",
    "### Day 3"
   ]
  },
  {
   "cell_type": "markdown",
   "id": "6c40b104-6744-4f23-9233-b9320e97a44f",
   "metadata": {},
   "source": [
    "## Part 1\n",
    "\n",
    "### Vanilla Python"
   ]
  },
  {
   "cell_type": "code",
   "execution_count": 121,
   "id": "acd39dfb-6ee5-4406-b510-f31b6fd16a98",
   "metadata": {},
   "outputs": [
    {
     "data": {
      "text/plain": [
       "3912944"
      ]
     },
     "execution_count": 121,
     "metadata": {},
     "output_type": "execute_result"
    }
   ],
   "source": [
    "file_path = \"./data/day3.txt\"\n",
    "\n",
    "with open (file_path, 'r') as f:\n",
    "    lines = f.readlines()\n",
    "\n",
    "big_list=[]  # list of list of ints\n",
    "    \n",
    "for line in lines:\n",
    "    digs = [int(digit) for digit in line.rstrip('\\n')]\n",
    "    big_list.append(digs)\n",
    "\n",
    "counter = [0 for i in range(len(big_list[0]))]\n",
    "\n",
    "for item in big_list:               \n",
    "    for i in range(len(item)):      # O(n)squared time\n",
    "        counter[i] = counter[i] + item[i] # of 1s in each idx\n",
    "    \n",
    "gam_list = [\"1\" if num > 500 else \"0\" for num in counter]\n",
    "gam_str = \"\".join(gam_list)\n",
    "gamma = int(gam_str, 2)\n",
    "    \n",
    "ep_list = [\"0\" if num > 500 else \"1\" for num in counter]\n",
    "ep_str = \"\".join(ep_list)\n",
    "eps = int(ep_str, 2)\n",
    "\n",
    "gamma * eps\n",
    "        "
   ]
  },
  {
   "cell_type": "markdown",
   "id": "36b43c8b-6879-495c-a43b-1b4b184faee5",
   "metadata": {},
   "source": [
    "The final number is the answer.\n",
    "\n",
    "I'm sure there are more elegant ways to solve with collections or binary operations."
   ]
  },
  {
   "cell_type": "markdown",
   "id": "5b6f6953",
   "metadata": {},
   "source": [
    "### Pandas"
   ]
  },
  {
   "cell_type": "code",
   "execution_count": 39,
   "id": "57f1e1e5",
   "metadata": {},
   "outputs": [],
   "source": [
    "import pandas as pd\n",
    "df = pd.read_csv('./data/day3.txt', header=None, dtype=str, names=['val'])\n",
    "df = df['val'].str.split(\"\", expand=True, n=12)\n",
    "df.drop(columns=0, inplace=True)\n",
    "df\n"
   ]
  },
  {
   "cell_type": "code",
   "execution_count": 53,
   "id": "f242ebaa",
   "metadata": {},
   "outputs": [
    {
     "data": {
      "text/plain": [
       "1     531\n",
       "2     499\n",
       "3     516\n",
       "4     477\n",
       "5     493\n",
       "6     492\n",
       "7     487\n",
       "8     518\n",
       "9     481\n",
       "10    494\n",
       "11    471\n",
       "12    495\n",
       "dtype: int64"
      ]
     },
     "execution_count": 53,
     "metadata": {},
     "output_type": "execute_result"
    }
   ],
   "source": [
    "\n",
    "df_numbers = df.apply(pd.to_numeric)\n",
    "df_numbers.sum()"
   ]
  },
  {
   "cell_type": "code",
   "execution_count": 56,
   "id": "980b220b",
   "metadata": {},
   "outputs": [
    {
     "data": {
      "text/plain": [
       "1     531\n",
       "2     499\n",
       "3     516\n",
       "4     477\n",
       "5     493\n",
       "6     492\n",
       "7     487\n",
       "8     518\n",
       "9     481\n",
       "10    494\n",
       "11    471\n",
       "12    495\n",
       "dtype: int64"
      ]
     },
     "execution_count": 56,
     "metadata": {},
     "output_type": "execute_result"
    }
   ],
   "source": [
    "df_numbers.sum()"
   ]
  },
  {
   "cell_type": "code",
   "execution_count": 80,
   "id": "91bb94fe",
   "metadata": {},
   "outputs": [],
   "source": [
    "gamma =  df_numbers.sum() > (df_numbers.count() / 2)\n",
    "gamma = gamma.astype(int)\n",
    "gam = gamma.astype(str).to_list()\n",
    "gam_bi = \"\".join(gam)\n",
    "gb = int(gam_bi, 2)"
   ]
  },
  {
   "cell_type": "markdown",
   "id": "fa4a1da9",
   "metadata": {},
   "source": []
  },
  {
   "cell_type": "code",
   "execution_count": 81,
   "id": "93b22d3d",
   "metadata": {},
   "outputs": [],
   "source": [
    "epsilon = df_numbers.sum() < (df_numbers.count() / 2)\n",
    "epsilon = epsilon.astype(int)\n",
    "eps = epsilon.astype(str).to_list()\n",
    "eps_bi = \"\".join(eps)\n",
    "eb = int(eps_bi, 2)"
   ]
  },
  {
   "cell_type": "code",
   "execution_count": 82,
   "id": "aa45856c",
   "metadata": {},
   "outputs": [
    {
     "data": {
      "text/plain": [
       "3912944"
      ]
     },
     "execution_count": 82,
     "metadata": {},
     "output_type": "execute_result"
    }
   ],
   "source": [
    "gb * eb"
   ]
  },
  {
   "cell_type": "markdown",
   "id": "23540579-9691-4343-856e-75eeaf23bd9d",
   "metadata": {},
   "source": [
    "## Part 2 \n",
    "\n",
    "To do later.\n",
    "\n",
    "### Vanilla Python\n",
    "\n",
    "### Pandas"
   ]
  }
 ],
 "metadata": {
  "kernelspec": {
   "display_name": "Python 3",
   "language": "python",
   "name": "python3"
  },
  "language_info": {
   "codemirror_mode": {
    "name": "ipython",
    "version": 3
   },
   "file_extension": ".py",
   "mimetype": "text/x-python",
   "name": "python",
   "nbconvert_exporter": "python",
   "pygments_lexer": "ipython3",
   "version": "3.10.0"
  }
 },
 "nbformat": 4,
 "nbformat_minor": 5
}
