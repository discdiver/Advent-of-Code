{
 "cells": [
  {
   "cell_type": "markdown",
   "id": "4ff9d436-8e49-4631-9467-7a3c1ce216e8",
   "metadata": {},
   "source": [
    "## Advent of code 2021 puzzle \n",
    "### Day 1"
   ]
  },
  {
   "cell_type": "markdown",
   "id": "6c40b104-6744-4f23-9233-b9320e97a44f",
   "metadata": {},
   "source": [
    "### Part 1\n",
    "\n",
    "#### Vanilla Python way"
   ]
  },
  {
   "cell_type": "code",
   "execution_count": 6,
   "id": "20d95a74-296f-4d4e-974e-78c0f948a15b",
   "metadata": {
    "tags": []
   },
   "outputs": [
    {
     "name": "stdout",
     "output_type": "stream",
     "text": [
      "1233\n"
     ]
    }
   ],
   "source": [
    "with open (\"data/day1.txt\", 'r') as f:\n",
    "    measure_list = f.readlines() \n",
    "\n",
    "int_list = [int(item) for item in measure_list]\n",
    "\n",
    "deeper = 0   # counter for deeper measumements \n",
    "\n",
    "for indx, num in enumerate(int_list[:-1]):\n",
    "    if int_list[indx] < int_list[indx+1]:\n",
    "        deeper += 1\n",
    "        \n",
    "print(deeper)"
   ]
  },
  {
   "cell_type": "markdown",
   "id": "2d728e83-0986-4a00-b56f-315996a56bc9",
   "metadata": {},
   "source": [
    "#### pandas way"
   ]
  },
  {
   "cell_type": "code",
   "execution_count": 8,
   "id": "b062c6b0-2721-445f-a5e4-c203e0ad7966",
   "metadata": {},
   "outputs": [
    {
     "data": {
      "text/html": [
       "<div>\n",
       "<style scoped>\n",
       "    .dataframe tbody tr th:only-of-type {\n",
       "        vertical-align: middle;\n",
       "    }\n",
       "\n",
       "    .dataframe tbody tr th {\n",
       "        vertical-align: top;\n",
       "    }\n",
       "\n",
       "    .dataframe thead th {\n",
       "        text-align: right;\n",
       "    }\n",
       "</style>\n",
       "<table border=\"1\" class=\"dataframe\">\n",
       "  <thead>\n",
       "    <tr style=\"text-align: right;\">\n",
       "      <th></th>\n",
       "      <th>0</th>\n",
       "    </tr>\n",
       "  </thead>\n",
       "  <tbody>\n",
       "    <tr>\n",
       "      <th>0</th>\n",
       "      <td>156</td>\n",
       "    </tr>\n",
       "    <tr>\n",
       "      <th>1</th>\n",
       "      <td>153</td>\n",
       "    </tr>\n",
       "    <tr>\n",
       "      <th>2</th>\n",
       "      <td>163</td>\n",
       "    </tr>\n",
       "    <tr>\n",
       "      <th>3</th>\n",
       "      <td>168</td>\n",
       "    </tr>\n",
       "    <tr>\n",
       "      <th>4</th>\n",
       "      <td>166</td>\n",
       "    </tr>\n",
       "    <tr>\n",
       "      <th>...</th>\n",
       "      <td>...</td>\n",
       "    </tr>\n",
       "    <tr>\n",
       "      <th>1995</th>\n",
       "      <td>3754</td>\n",
       "    </tr>\n",
       "    <tr>\n",
       "      <th>1996</th>\n",
       "      <td>3755</td>\n",
       "    </tr>\n",
       "    <tr>\n",
       "      <th>1997</th>\n",
       "      <td>3762</td>\n",
       "    </tr>\n",
       "    <tr>\n",
       "      <th>1998</th>\n",
       "      <td>3769</td>\n",
       "    </tr>\n",
       "    <tr>\n",
       "      <th>1999</th>\n",
       "      <td>3770</td>\n",
       "    </tr>\n",
       "  </tbody>\n",
       "</table>\n",
       "<p>2000 rows × 1 columns</p>\n",
       "</div>"
      ],
      "text/plain": [
       "         0\n",
       "0      156\n",
       "1      153\n",
       "2      163\n",
       "3      168\n",
       "4      166\n",
       "...    ...\n",
       "1995  3754\n",
       "1996  3755\n",
       "1997  3762\n",
       "1998  3769\n",
       "1999  3770\n",
       "\n",
       "[2000 rows x 1 columns]"
      ]
     },
     "execution_count": 8,
     "metadata": {},
     "output_type": "execute_result"
    }
   ],
   "source": [
    "import pandas as pd\n",
    "depths = pd.read_csv('./data/day1.txt', header=None)\n",
    "depths"
   ]
  },
  {
   "cell_type": "code",
   "execution_count": 4,
   "id": "04a5ee4e-430b-4a56-b041-5e309535891b",
   "metadata": {},
   "outputs": [
    {
     "name": "stdout",
     "output_type": "stream",
     "text": [
      "<class 'pandas.core.frame.DataFrame'>\n",
      "RangeIndex: 2000 entries, 0 to 1999\n",
      "Data columns (total 1 columns):\n",
      " #   Column  Non-Null Count  Dtype\n",
      "---  ------  --------------  -----\n",
      " 0   0       2000 non-null   int64\n",
      "dtypes: int64(1)\n",
      "memory usage: 15.8 KB\n"
     ]
    }
   ],
   "source": [
    "depths.info()"
   ]
  },
  {
   "cell_type": "code",
   "execution_count": 5,
   "id": "1dce9069-1d5d-4332-9d32-f26072ce8853",
   "metadata": {},
   "outputs": [
    {
     "data": {
      "text/html": [
       "<div>\n",
       "<style scoped>\n",
       "    .dataframe tbody tr th:only-of-type {\n",
       "        vertical-align: middle;\n",
       "    }\n",
       "\n",
       "    .dataframe tbody tr th {\n",
       "        vertical-align: top;\n",
       "    }\n",
       "\n",
       "    .dataframe thead th {\n",
       "        text-align: right;\n",
       "    }\n",
       "</style>\n",
       "<table border=\"1\" class=\"dataframe\">\n",
       "  <thead>\n",
       "    <tr style=\"text-align: right;\">\n",
       "      <th></th>\n",
       "      <th>0</th>\n",
       "    </tr>\n",
       "  </thead>\n",
       "  <tbody>\n",
       "    <tr>\n",
       "      <th>0</th>\n",
       "      <td>NaN</td>\n",
       "    </tr>\n",
       "    <tr>\n",
       "      <th>1</th>\n",
       "      <td>-3.0</td>\n",
       "    </tr>\n",
       "    <tr>\n",
       "      <th>2</th>\n",
       "      <td>10.0</td>\n",
       "    </tr>\n",
       "    <tr>\n",
       "      <th>3</th>\n",
       "      <td>5.0</td>\n",
       "    </tr>\n",
       "    <tr>\n",
       "      <th>4</th>\n",
       "      <td>-2.0</td>\n",
       "    </tr>\n",
       "    <tr>\n",
       "      <th>...</th>\n",
       "      <td>...</td>\n",
       "    </tr>\n",
       "    <tr>\n",
       "      <th>1995</th>\n",
       "      <td>9.0</td>\n",
       "    </tr>\n",
       "    <tr>\n",
       "      <th>1996</th>\n",
       "      <td>1.0</td>\n",
       "    </tr>\n",
       "    <tr>\n",
       "      <th>1997</th>\n",
       "      <td>7.0</td>\n",
       "    </tr>\n",
       "    <tr>\n",
       "      <th>1998</th>\n",
       "      <td>7.0</td>\n",
       "    </tr>\n",
       "    <tr>\n",
       "      <th>1999</th>\n",
       "      <td>1.0</td>\n",
       "    </tr>\n",
       "  </tbody>\n",
       "</table>\n",
       "<p>2000 rows × 1 columns</p>\n",
       "</div>"
      ],
      "text/plain": [
       "         0\n",
       "0      NaN\n",
       "1     -3.0\n",
       "2     10.0\n",
       "3      5.0\n",
       "4     -2.0\n",
       "...    ...\n",
       "1995   9.0\n",
       "1996   1.0\n",
       "1997   7.0\n",
       "1998   7.0\n",
       "1999   1.0\n",
       "\n",
       "[2000 rows x 1 columns]"
      ]
     },
     "execution_count": 5,
     "metadata": {},
     "output_type": "execute_result"
    }
   ],
   "source": [
    "depths.diff()"
   ]
  },
  {
   "cell_type": "code",
   "execution_count": 6,
   "id": "681017b3-d4f2-4503-a66a-98abfad3a573",
   "metadata": {},
   "outputs": [
    {
     "data": {
      "text/plain": [
       "1233"
      ]
     },
     "execution_count": 6,
     "metadata": {},
     "output_type": "execute_result"
    }
   ],
   "source": [
    "(depths[0].diff() > 0).sum()"
   ]
  },
  {
   "cell_type": "markdown",
   "id": "8b45225a-1a11-4332-9a58-5bf831be6b83",
   "metadata": {},
   "source": [
    "### Part 2\n",
    "\n",
    "Sliding window sums."
   ]
  },
  {
   "cell_type": "markdown",
   "id": "c09a10e9-c812-4ff9-883d-7e1cf5e74b13",
   "metadata": {},
   "source": [
    "### Pandas way"
   ]
  },
  {
   "cell_type": "code",
   "execution_count": 7,
   "id": "14c29b9c-e68d-40e7-8b26-4d27cf1f00c1",
   "metadata": {},
   "outputs": [
    {
     "data": {
      "text/html": [
       "<div>\n",
       "<style scoped>\n",
       "    .dataframe tbody tr th:only-of-type {\n",
       "        vertical-align: middle;\n",
       "    }\n",
       "\n",
       "    .dataframe tbody tr th {\n",
       "        vertical-align: top;\n",
       "    }\n",
       "\n",
       "    .dataframe thead th {\n",
       "        text-align: right;\n",
       "    }\n",
       "</style>\n",
       "<table border=\"1\" class=\"dataframe\">\n",
       "  <thead>\n",
       "    <tr style=\"text-align: right;\">\n",
       "      <th></th>\n",
       "      <th>0</th>\n",
       "      <th>sum_3</th>\n",
       "    </tr>\n",
       "  </thead>\n",
       "  <tbody>\n",
       "    <tr>\n",
       "      <th>0</th>\n",
       "      <td>156</td>\n",
       "      <td>NaN</td>\n",
       "    </tr>\n",
       "    <tr>\n",
       "      <th>1</th>\n",
       "      <td>153</td>\n",
       "      <td>NaN</td>\n",
       "    </tr>\n",
       "    <tr>\n",
       "      <th>2</th>\n",
       "      <td>163</td>\n",
       "      <td>472.0</td>\n",
       "    </tr>\n",
       "    <tr>\n",
       "      <th>3</th>\n",
       "      <td>168</td>\n",
       "      <td>484.0</td>\n",
       "    </tr>\n",
       "    <tr>\n",
       "      <th>4</th>\n",
       "      <td>166</td>\n",
       "      <td>497.0</td>\n",
       "    </tr>\n",
       "    <tr>\n",
       "      <th>...</th>\n",
       "      <td>...</td>\n",
       "      <td>...</td>\n",
       "    </tr>\n",
       "    <tr>\n",
       "      <th>1995</th>\n",
       "      <td>3754</td>\n",
       "      <td>11218.0</td>\n",
       "    </tr>\n",
       "    <tr>\n",
       "      <th>1996</th>\n",
       "      <td>3755</td>\n",
       "      <td>11254.0</td>\n",
       "    </tr>\n",
       "    <tr>\n",
       "      <th>1997</th>\n",
       "      <td>3762</td>\n",
       "      <td>11271.0</td>\n",
       "    </tr>\n",
       "    <tr>\n",
       "      <th>1998</th>\n",
       "      <td>3769</td>\n",
       "      <td>11286.0</td>\n",
       "    </tr>\n",
       "    <tr>\n",
       "      <th>1999</th>\n",
       "      <td>3770</td>\n",
       "      <td>11301.0</td>\n",
       "    </tr>\n",
       "  </tbody>\n",
       "</table>\n",
       "<p>2000 rows × 2 columns</p>\n",
       "</div>"
      ],
      "text/plain": [
       "         0    sum_3\n",
       "0      156      NaN\n",
       "1      153      NaN\n",
       "2      163    472.0\n",
       "3      168    484.0\n",
       "4      166    497.0\n",
       "...    ...      ...\n",
       "1995  3754  11218.0\n",
       "1996  3755  11254.0\n",
       "1997  3762  11271.0\n",
       "1998  3769  11286.0\n",
       "1999  3770  11301.0\n",
       "\n",
       "[2000 rows x 2 columns]"
      ]
     },
     "execution_count": 7,
     "metadata": {},
     "output_type": "execute_result"
    }
   ],
   "source": [
    "depths['sum_3'] = depths[0].rolling(3).sum()\n",
    "depths"
   ]
  },
  {
   "cell_type": "code",
   "execution_count": 8,
   "id": "510bfd02-6e00-4beb-902c-8707db5e435a",
   "metadata": {},
   "outputs": [
    {
     "data": {
      "text/plain": [
       "1275"
      ]
     },
     "execution_count": 8,
     "metadata": {},
     "output_type": "execute_result"
    }
   ],
   "source": [
    "(depths['sum_3'].diff() > 0).sum()"
   ]
  },
  {
   "cell_type": "markdown",
   "id": "d5a34711-79d7-4247-8440-6f7c9884e757",
   "metadata": {},
   "source": [
    "### Vanilla Python way"
   ]
  },
  {
   "cell_type": "code",
   "execution_count": 40,
   "id": "9077d896-8b84-4652-801d-da31bf6581d9",
   "metadata": {},
   "outputs": [
    {
     "name": "stdout",
     "output_type": "stream",
     "text": [
      "1275\n"
     ]
    }
   ],
   "source": [
    "score = 0           # sum of depths\n",
    "previous_score = 0  # score from previous iteration\n",
    "total_deeper = 0    # counter for diffs\n",
    "\n",
    "for indx, val in enumerate(int_list[1:-2]):   \n",
    "    try:                              \n",
    "        score = int_list[indx] + int_list[indx +1] + int_list[indx + 2]    \n",
    "        if score > previous_score:\n",
    "            total_deeper += 1\n",
    "        previous_score = score\n",
    "         \n",
    "    except:\n",
    "        continue\n",
    "print(total_deeper)"
   ]
  }
 ],
 "metadata": {
  "kernelspec": {
   "display_name": "Python 3",
   "language": "python",
   "name": "python3"
  },
  "language_info": {
   "codemirror_mode": {
    "name": "ipython",
    "version": 3
   },
   "file_extension": ".py",
   "mimetype": "text/x-python",
   "name": "python",
   "nbconvert_exporter": "python",
   "pygments_lexer": "ipython3",
   "version": "3.10.0"
  }
 },
 "nbformat": 4,
 "nbformat_minor": 5
}
